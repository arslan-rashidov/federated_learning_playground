{
 "cells": [
  {
   "cell_type": "code",
   "execution_count": 2,
   "id": "0166d815",
   "metadata": {},
   "outputs": [],
   "source": [
    "from base_client import Client\n",
    "from anti_fraud_fl.client_methods import init_parameters, load_model"
   ]
  },
  {
   "cell_type": "code",
   "execution_count": 6,
   "id": "bb9bdb1c",
   "metadata": {},
   "outputs": [],
   "source": [
    "init_parameters = {\n",
    "    'n_features': 30,\n",
    "    'hidden_dim': 32\n",
    "}"
   ]
  },
  {
   "cell_type": "code",
   "execution_count": 8,
   "id": "fecc242f",
   "metadata": {},
   "outputs": [
    {
     "name": "stdout",
     "output_type": "stream",
     "text": [
      "Not valid weights\n"
     ]
    }
   ],
   "source": [
    "try:\n",
    "    client = Client(init_params=init_parameters,\n",
    "                    load_model_fn=load_model,\n",
    "                    initial_weights_path='invalid_start_weights.pth')\n",
    "    print(\"Valid weights\")\n",
    "except:\n",
    "    print(\"Not valid weights\")"
   ]
  },
  {
   "cell_type": "code",
   "execution_count": null,
   "id": "d99337de",
   "metadata": {},
   "outputs": [],
   "source": []
  }
 ],
 "metadata": {
  "kernelspec": {
   "display_name": "Python 3 (ipykernel)",
   "language": "python",
   "name": "python3"
  },
  "language_info": {
   "codemirror_mode": {
    "name": "ipython",
    "version": 3
   },
   "file_extension": ".py",
   "mimetype": "text/x-python",
   "name": "python",
   "nbconvert_exporter": "python",
   "pygments_lexer": "ipython3",
   "version": "3.10.11"
  }
 },
 "nbformat": 4,
 "nbformat_minor": 5
}
