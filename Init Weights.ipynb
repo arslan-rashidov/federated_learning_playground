{
 "cells": [
  {
   "cell_type": "code",
   "execution_count": 4,
   "id": "16849bc7",
   "metadata": {},
   "outputs": [],
   "source": [
    "from base_client import Client, save_weights\n",
    "from anti_fraud_fl.client_methods import load_model"
   ]
  },
  {
   "cell_type": "code",
   "execution_count": 11,
   "id": "83142d4c",
   "metadata": {},
   "outputs": [],
   "source": [
    "init_parameters = {\n",
    "    'n_features': 30,\n",
    "    'hidden_dim': 32\n",
    "}"
   ]
  },
  {
   "cell_type": "code",
   "execution_count": 12,
   "id": "8df293b9",
   "metadata": {},
   "outputs": [
    {
     "name": "stdout",
     "output_type": "stream",
     "text": [
      "Стартовые веса были сохранены в invalid_start_weights.pth\n"
     ]
    }
   ],
   "source": [
    "start_weights_path = 'invalid_start_weights.pth'\n",
    "try:\n",
    "    client = Client(init_params=init_parameters,\n",
    "                    load_model_fn=load_model)\n",
    "    save_weights(client.get_weights(), start_weights_path)\n",
    "    print(f\"Стартовые веса были сохранены в {start_weights_path}\")\n",
    "    \n",
    "except:\n",
    "    print(\"Ошибка при создании стартовых весов\")"
   ]
  },
  {
   "cell_type": "code",
   "execution_count": null,
   "id": "bce2e621",
   "metadata": {},
   "outputs": [],
   "source": []
  }
 ],
 "metadata": {
  "kernelspec": {
   "display_name": "Python 3 (ipykernel)",
   "language": "python",
   "name": "python3"
  },
  "language_info": {
   "codemirror_mode": {
    "name": "ipython",
    "version": 3
   },
   "file_extension": ".py",
   "mimetype": "text/x-python",
   "name": "python",
   "nbconvert_exporter": "python",
   "pygments_lexer": "ipython3",
   "version": "3.10.11"
  }
 },
 "nbformat": 4,
 "nbformat_minor": 5
}
