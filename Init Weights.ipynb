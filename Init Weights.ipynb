{
 "cells": [
  {
   "cell_type": "code",
   "execution_count": 2,
   "id": "f67abac6",
   "metadata": {},
   "outputs": [],
   "source": [
    "from base_client import Client, save_weights\n",
    "from anti_fraud_fl.client_methods import init_parameters, load_model"
   ]
  },
  {
   "cell_type": "code",
   "execution_count": null,
   "id": "b1795723",
   "metadata": {},
   "outputs": [],
   "source": [
    "start_weights_path = \n",
    "try:\n",
    "    client = Client(init_params=init_parameters,\n",
    "                    load_model_fn=load_model)\n",
    "    save_weights(client.get_weights(), 'start_weights.pth')\n",
    "    \n",
    "except:\n",
    "    print()"
   ]
  }
 ],
 "metadata": {
  "kernelspec": {
   "display_name": "Python 3 (ipykernel)",
   "language": "python",
   "name": "python3"
  },
  "language_info": {
   "codemirror_mode": {
    "name": "ipython",
    "version": 3
   },
   "file_extension": ".py",
   "mimetype": "text/x-python",
   "name": "python",
   "nbconvert_exporter": "python",
   "pygments_lexer": "ipython3",
   "version": "3.10.11"
  }
 },
 "nbformat": 4,
 "nbformat_minor": 5
}
